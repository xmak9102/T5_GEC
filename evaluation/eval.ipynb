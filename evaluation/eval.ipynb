{
 "cells": [
  {
   "cell_type": "code",
   "execution_count": null,
   "id": "dc44d503",
   "metadata": {},
   "outputs": [],
   "source": [
    "import score_cal\n",
    "\n",
    "#beta will be default to 1 for f_score in no beta is provided\n",
    "b_score, f_score, g_score = score_cal.score('eval_new.csv', beta=0.5)\n",
    "\n",
    "\n",
    "print(\"F-beta score:\",f_score)\n",
    "\n",
    "print(\"Bleu score:\",b_score)\n",
    "\n",
    "print(\"Gleu score:\",g_score)"
   ]
  }
 ],
 "metadata": {
  "kernelspec": {
   "display_name": "Python 3 (ipykernel)",
   "language": "python",
   "name": "python3"
  },
  "language_info": {
   "codemirror_mode": {
    "name": "ipython",
    "version": 3
   },
   "file_extension": ".py",
   "mimetype": "text/x-python",
   "name": "python",
   "nbconvert_exporter": "python",
   "pygments_lexer": "ipython3",
   "version": "3.9.7"
  }
 },
 "nbformat": 4,
 "nbformat_minor": 5
}
